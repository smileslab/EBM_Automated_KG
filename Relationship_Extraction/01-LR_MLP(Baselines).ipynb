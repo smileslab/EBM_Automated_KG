{
 "cells": [
  {
   "cell_type": "markdown",
   "id": "d9c363f6-9854-4975-8b58-6bd40c0a9a24",
   "metadata": {
    "tags": []
   },
   "source": [
    "# Importings"
   ]
  },
  {
   "cell_type": "code",
   "execution_count": 2,
   "id": "80685e87",
   "metadata": {},
   "outputs": [],
   "source": [
    "import os\n",
    "import random\n",
    "from tqdm.notebook import tqdm\n",
    "from config import BaseConfig\n",
    "from models.utils import load_pkl, load_json, save_pkl, save_json\n",
    "import warnings\n",
    "from sklearn.feature_extraction.text import TfidfVectorizer\n",
    "from sklearn.decomposition import TruncatedSVD\n",
    "from sklearn.pipeline import Pipeline\n",
    "import numpy as np\n",
    "from sklearn.metrics import f1_score, accuracy_score, precision_score, recall_score\n",
    "from sklearn.linear_model import LogisticRegression\n",
    "from sklearn.metrics import classification_report\n",
    "from sklearn.neural_network import MLPClassifier\n",
    "\n",
    "\n",
    "warnings.filterwarnings('ignore')\n",
    "CONFIG = BaseConfig().get_args()\n",
    "label_encoder = load_pkl(CONFIG.path_saved_le)"
   ]
  },
  {
   "cell_type": "markdown",
   "id": "badad3f4-f63b-48c2-9321-648196a80dba",
   "metadata": {
    "tags": []
   },
   "source": [
    "# Helpers\n",
    "\n",
    "* data loader\n",
    "* evaluation methods"
   ]
  },
  {
   "cell_type": "code",
   "execution_count": null,
   "id": "d788347f-c189-4ebd-bcef-16a647230b06",
   "metadata": {},
   "outputs": [],
   "source": [
    "def data_loader(data, vectorizer, label_encoder):\n",
    "    head_ents = [pairs[0] for pairs in tqdm(data)]\n",
    "    tail_ents = [pairs[1] for pairs in tqdm(data)]\n",
    "    labels = [pairs[2] for pairs in tqdm(data)]\n",
    "    \n",
    "    X = np.concatenate((vectorizer.transform(head_ents),  \n",
    "                        vectorizer.transform(tail_ents)), axis=1)\n",
    "    \n",
    "    Y = label_encoder.transform(labels)\n",
    "    return X, Y\n",
    "\n",
    "def evaluation_method(y_true, y_pred):\n",
    "    f1 = f1_score(y_true, y_pred, average='macro')\n",
    "    acc = accuracy_score(y_true, y_pred)\n",
    "    pre = precision_score(y_true, y_pred, average='macro')\n",
    "    rec = recall_score(y_true, y_pred, average='macro')\n",
    "    \n",
    "    clf_report = classification_report(y_true, y_pred)\n",
    "    return {\n",
    "                \"y-true\": [int(l) for l in list(y_true)], \"y-pred\": [int(l) for l in list(y_pred)],\n",
    "                \"f1\": f1, \"accuracy\": acc, \n",
    "                \"precision\": pre, \"recall\": rec, \n",
    "                \"clf-report\": clf_report\n",
    "            }"
   ]
  },
  {
   "cell_type": "markdown",
   "id": "85f4bc9c-5238-4c2e-bc85-a964abb9d9f6",
   "metadata": {
    "tags": []
   },
   "source": [
    "# Loading Dataset"
   ]
  },
  {
   "cell_type": "code",
   "execution_count": 3,
   "id": "1257b37c-d05b-4c00-a4cc-0230a6897599",
   "metadata": {},
   "outputs": [
    {
     "data": {
      "application/vnd.jupyter.widget-view+json": {
       "model_id": "8b6b261016fd49fdb862b2f480ee0105",
       "version_major": 2,
       "version_minor": 0
      },
      "text/plain": [
       "  0%|          | 0/534277 [00:00<?, ?it/s]"
      ]
     },
     "metadata": {},
     "output_type": "display_data"
    },
    {
     "data": {
      "application/vnd.jupyter.widget-view+json": {
       "model_id": "f2b65e77e426480897dfea5e17d9a415",
       "version_major": 2,
       "version_minor": 0
      },
      "text/plain": [
       "  0%|          | 0/114506 [00:00<?, ?it/s]"
      ]
     },
     "metadata": {},
     "output_type": "display_data"
    },
    {
     "data": {
      "application/vnd.jupyter.widget-view+json": {
       "model_id": "945bdb6f1b3747f888421fdf92449188",
       "version_major": 2,
       "version_minor": 0
      },
      "text/plain": [
       "  0%|          | 0/114565 [00:00<?, ?it/s]"
      ]
     },
     "metadata": {},
     "output_type": "display_data"
    }
   ],
   "source": [
    "train_data = load_json(CONFIG.train_path)\n",
    "test_data = load_json(CONFIG.test_path)\n",
    "dev_data = load_json(CONFIG.dev_path)\n",
    "\n",
    "train_rel = [[example['tail']['word'], example['head']['word'], example['relation']]\n",
    "             for example in tqdm(train_data)]\n",
    "\n",
    "dev_rel = [[example['tail']['word'], example['head']['word'], example['relation']]\n",
    "           for example in tqdm(dev_data)]\n",
    "\n",
    "test_rel = [[example['tail']['word'], example['head']['word'], example['relation']]\n",
    "            for example in tqdm(test_data)]"
   ]
  },
  {
   "cell_type": "code",
   "execution_count": 4,
   "id": "65b4ed58-76f6-44bb-899e-3856c1d0922a",
   "metadata": {},
   "outputs": [
    {
     "data": {
      "application/vnd.jupyter.widget-view+json": {
       "model_id": "bbeca1aaee824e77aad3528cb9a6d29d",
       "version_major": 2,
       "version_minor": 0
      },
      "text/plain": [
       "  0%|          | 0/534277 [00:00<?, ?it/s]"
      ]
     },
     "metadata": {},
     "output_type": "display_data"
    },
    {
     "data": {
      "application/vnd.jupyter.widget-view+json": {
       "model_id": "9535476486a04820b8d4a18f037cc2b9",
       "version_major": 2,
       "version_minor": 0
      },
      "text/plain": [
       "  0%|          | 0/534277 [00:00<?, ?it/s]"
      ]
     },
     "metadata": {},
     "output_type": "display_data"
    },
    {
     "name": "stdout",
     "output_type": "stream",
     "text": [
      "size of train vocabulary: 1068554\n",
      "size of unique train vocabulary: 51947\n"
     ]
    }
   ],
   "source": [
    "train_vocabulary = [pairs[0].lower() for pairs in tqdm(train_rel)] + [pairs[1].lower() for pairs in tqdm(train_rel)]\n",
    "\n",
    "print(f\"size of train vocabulary: {len(train_vocabulary)}\")\n",
    "print(f\"size of unique train vocabulary: {len(list(set(train_vocabulary)))}\")"
   ]
  },
  {
   "cell_type": "markdown",
   "id": "2cb0d289-c427-4289-9ce9-f5ad03c63157",
   "metadata": {
    "tags": []
   },
   "source": [
    "# Feature Extraction (LSA: TFIDF + SVD)"
   ]
  },
  {
   "cell_type": "code",
   "execution_count": 5,
   "id": "184a061c-19ed-4abe-91a7-97bb65e27f58",
   "metadata": {},
   "outputs": [
    {
     "data": {
      "text/plain": [
       "Pipeline(steps=[('tfidf', TfidfVectorizer()),\n",
       "                ('svd', TruncatedSVD(n_components=50, n_iter=7))])"
      ]
     },
     "execution_count": 5,
     "metadata": {},
     "output_type": "execute_result"
    }
   ],
   "source": [
    "vectorizer = Pipeline(steps=[('tfidf', TfidfVectorizer()), ('svd', TruncatedSVD(n_components=50, n_iter=7))])\n",
    "\n",
    "vectorizer.fit(train_vocabulary)"
   ]
  },
  {
   "cell_type": "code",
   "execution_count": 7,
   "id": "b2cb213d-1d78-4844-8b95-ed07075b4a42",
   "metadata": {},
   "outputs": [
    {
     "data": {
      "application/vnd.jupyter.widget-view+json": {
       "model_id": "2201fb6fd8274ed5b037f0ac5a5cf007",
       "version_major": 2,
       "version_minor": 0
      },
      "text/plain": [
       "  0%|          | 0/534277 [00:00<?, ?it/s]"
      ]
     },
     "metadata": {},
     "output_type": "display_data"
    },
    {
     "data": {
      "application/vnd.jupyter.widget-view+json": {
       "model_id": "47be377279c044d29caa88c12d21398c",
       "version_major": 2,
       "version_minor": 0
      },
      "text/plain": [
       "  0%|          | 0/534277 [00:00<?, ?it/s]"
      ]
     },
     "metadata": {},
     "output_type": "display_data"
    },
    {
     "data": {
      "application/vnd.jupyter.widget-view+json": {
       "model_id": "a960c4f02ee3427f884393e0048ef78e",
       "version_major": 2,
       "version_minor": 0
      },
      "text/plain": [
       "  0%|          | 0/534277 [00:00<?, ?it/s]"
      ]
     },
     "metadata": {},
     "output_type": "display_data"
    },
    {
     "data": {
      "application/vnd.jupyter.widget-view+json": {
       "model_id": "c41bfcd6df834e81903f38f40a083ddc",
       "version_major": 2,
       "version_minor": 0
      },
      "text/plain": [
       "  0%|          | 0/114506 [00:00<?, ?it/s]"
      ]
     },
     "metadata": {},
     "output_type": "display_data"
    },
    {
     "data": {
      "application/vnd.jupyter.widget-view+json": {
       "model_id": "72002c48ce724b7399f9bd5bcbe4e6b3",
       "version_major": 2,
       "version_minor": 0
      },
      "text/plain": [
       "  0%|          | 0/114506 [00:00<?, ?it/s]"
      ]
     },
     "metadata": {},
     "output_type": "display_data"
    },
    {
     "data": {
      "application/vnd.jupyter.widget-view+json": {
       "model_id": "6d1a1c4296824d818a81733a41cd60f8",
       "version_major": 2,
       "version_minor": 0
      },
      "text/plain": [
       "  0%|          | 0/114506 [00:00<?, ?it/s]"
      ]
     },
     "metadata": {},
     "output_type": "display_data"
    },
    {
     "data": {
      "application/vnd.jupyter.widget-view+json": {
       "model_id": "e1dd871bad694be8b76c7bd8e00db8e2",
       "version_major": 2,
       "version_minor": 0
      },
      "text/plain": [
       "  0%|          | 0/114565 [00:00<?, ?it/s]"
      ]
     },
     "metadata": {},
     "output_type": "display_data"
    },
    {
     "data": {
      "application/vnd.jupyter.widget-view+json": {
       "model_id": "392ba21f864948f69d93fbee44a6c629",
       "version_major": 2,
       "version_minor": 0
      },
      "text/plain": [
       "  0%|          | 0/114565 [00:00<?, ?it/s]"
      ]
     },
     "metadata": {},
     "output_type": "display_data"
    },
    {
     "data": {
      "application/vnd.jupyter.widget-view+json": {
       "model_id": "59df83d1853146d09575910b22ae46b7",
       "version_major": 2,
       "version_minor": 0
      },
      "text/plain": [
       "  0%|          | 0/114565 [00:00<?, ?it/s]"
      ]
     },
     "metadata": {},
     "output_type": "display_data"
    }
   ],
   "source": [
    "X_train_vec, y_train = data_loader(train_rel, vectorizer ,label_encoder)\n",
    "X_dev_vec, y_dev= data_loader(dev_rel, vectorizer ,label_encoder)\n",
    "X_test_vec, y_test = data_loader(test_rel, vectorizer ,label_encoder)"
   ]
  },
  {
   "cell_type": "code",
   "execution_count": 38,
   "id": "ab57df2a-4b6f-46e3-b1da-f797d325db4d",
   "metadata": {},
   "outputs": [],
   "source": [
    "# # Save models and datasets\n",
    "# save_pkl(os.path.join(CONFIG.pre_trained_dir, \"tfidf-svd-vectorizer.sav\"), vectorizer)\n",
    "\n",
    "# dataset = {\n",
    "#     \"x-train\": X_train_vec, \"y-train\":y_train, \n",
    "#     \"x-test\":X_test_vec, \"y-test\":y_test,\n",
    "#     \"x-dev\": X_dev_vec, \"y-dev\":y_dev\n",
    "# }\n",
    "\n",
    "# save_pkl(os.path.join(CONFIG.pre_trained_dir, \"tfidf_svd_dataset.pkl\"), dataset)"
   ]
  },
  {
   "cell_type": "markdown",
   "id": "7b52f849-d028-4607-bf5f-f63d688902d3",
   "metadata": {
    "tags": []
   },
   "source": [
    "# Model 1: LSA + LogisticRegression"
   ]
  },
  {
   "cell_type": "code",
   "execution_count": 8,
   "id": "eee179af-3eaf-4e75-8761-051d706d7018",
   "metadata": {},
   "outputs": [],
   "source": [
    "lr_model = LogisticRegression()"
   ]
  },
  {
   "cell_type": "code",
   "execution_count": null,
   "id": "5268477b-e17f-49fd-bdc3-3250ffd4ab85",
   "metadata": {},
   "outputs": [],
   "source": [
    "lr_model.fit(X_train_vec, y_train)"
   ]
  },
  {
   "cell_type": "code",
   "execution_count": 43,
   "id": "cac6dbc3-5a5d-4b67-8df4-a0ea8b16da76",
   "metadata": {},
   "outputs": [],
   "source": [
    "y_train_pred = lr_model.predict(X_train_vec)\n",
    "y_dev_pred = lr_model.predict(X_dev_vec)\n",
    "y_test_pred = lr_model.predict(X_test_vec)"
   ]
  },
  {
   "cell_type": "code",
   "execution_count": 80,
   "id": "c1122af3-93b7-4182-ada7-c262e3027849",
   "metadata": {},
   "outputs": [
    {
     "name": "stdout",
     "output_type": "stream",
     "text": [
      "TRAIN, F1-Score: 0.09035886701731136, Accuracy: 0.45075681715664345\n",
      "DEV, F1-Score: 0.08982119442949407, Accuracy: 0.4512514628054425\n",
      "TEST, F1-Score: 0.08994936980797953, Accuracy: 0.45060009601536244\n"
     ]
    }
   ],
   "source": [
    "lr_results = {\n",
    "    \"train\": evaluation_method(y_train, y_train_pred),\n",
    "    \"dev\": evaluation_method(y_dev, y_dev_pred),\n",
    "    \"test\": evaluation_method(y_test, y_test_pred)\n",
    "}\n",
    "\n",
    "print(f\"TRAIN, F1-Score: {lr_results['train']['f1']}, Accuracy: {lr_results['train']['accuracy']}\")\n",
    "print(f\"DEV, F1-Score: {lr_results['dev']['f1']}, Accuracy: {lr_results['dev']['accuracy']}\")\n",
    "print(f\"TEST, F1-Score: {lr_results['test']['f1']}, Accuracy: {lr_results['test']['accuracy']}\")\n",
    "\n",
    "save_json(os.path.join(\"assets/predictions\", \"lsa-lr-baseline.json\"), lr_results)"
   ]
  },
  {
   "cell_type": "markdown",
   "id": "23a1dd9b-78f6-4004-afa0-c56bd6ef505e",
   "metadata": {
    "tags": []
   },
   "source": [
    "# Model 2: LSA + MLP"
   ]
  },
  {
   "cell_type": "code",
   "execution_count": 10,
   "id": "28bcad42-d184-4197-8ac1-ecd461812edd",
   "metadata": {},
   "outputs": [],
   "source": [
    "mlp_model = MLPClassifier(hidden_layer_sizes=(500,300, 250), max_iter=50, verbose=True)"
   ]
  },
  {
   "cell_type": "code",
   "execution_count": null,
   "id": "82833202-19d0-4ab4-b9e7-563ba3cccaf2",
   "metadata": {},
   "outputs": [
    {
     "name": "stdout",
     "output_type": "stream",
     "text": [
      "Iteration 1, loss = 2.19500436\n",
      "Iteration 2, loss = 1.95286585\n",
      "Iteration 3, loss = 1.84193755\n",
      "Iteration 4, loss = 1.76079521\n",
      "Iteration 5, loss = 1.70094362\n",
      "Iteration 6, loss = 1.65756611\n",
      "Iteration 7, loss = 1.62188848\n",
      "Iteration 8, loss = 1.59232209\n",
      "Iteration 9, loss = 1.57010624\n",
      "Iteration 10, loss = 1.54919664\n",
      "Iteration 11, loss = 1.53078800\n",
      "Iteration 12, loss = 1.51297543\n",
      "Iteration 13, loss = 1.49516405\n",
      "Iteration 14, loss = 1.48378470\n",
      "Iteration 15, loss = 1.47077423\n",
      "Iteration 16, loss = 1.45814666\n",
      "Iteration 17, loss = 1.44630844\n",
      "Iteration 18, loss = 1.43538401\n",
      "Iteration 19, loss = 1.42420774\n",
      "Iteration 20, loss = 1.41623964\n",
      "Iteration 21, loss = 1.40755203\n",
      "Iteration 22, loss = 1.39794950\n",
      "Iteration 23, loss = 1.39048937\n",
      "Iteration 24, loss = 1.38152967\n",
      "Iteration 25, loss = 1.37546609\n",
      "Iteration 26, loss = 1.36854050\n",
      "Iteration 27, loss = 1.35978068\n",
      "Iteration 28, loss = 1.35330498\n",
      "Iteration 29, loss = 1.34672524\n",
      "Iteration 30, loss = 1.34174098\n",
      "Iteration 31, loss = 1.33502608\n",
      "Iteration 32, loss = 1.32915395\n",
      "Iteration 33, loss = 1.32409699\n",
      "Iteration 34, loss = 1.32053393\n",
      "Iteration 35, loss = 1.31422752\n",
      "Iteration 36, loss = 1.30963705\n",
      "Iteration 37, loss = 1.30259001\n",
      "Iteration 38, loss = 1.30029405\n",
      "Iteration 39, loss = 1.29536285\n",
      "Iteration 40, loss = 1.29046937\n",
      "Iteration 41, loss = 1.28565680\n",
      "Iteration 42, loss = 1.28223950\n",
      "Iteration 43, loss = 1.27835654\n"
     ]
    }
   ],
   "source": [
    "mlp_model.fit(X_train_vec, y_train)"
   ]
  },
  {
   "cell_type": "code",
   "execution_count": null,
   "id": "6d93625a-dd30-43f9-9dc5-b6e76a646a04",
   "metadata": {
    "jupyter": {
     "source_hidden": true
    },
    "tags": []
   },
   "outputs": [],
   "source": [
    "y_train_pred = mlp_model.predict(X_train_vec)\n",
    "y_dev_pred = mlp_model.predict(X_dev_vec)\n",
    "y_test_pred = mlp_model.predict(X_test_vec)"
   ]
  },
  {
   "cell_type": "code",
   "execution_count": 15,
   "id": "ace79438-bef5-4ae4-a97b-7619253fcb7e",
   "metadata": {},
   "outputs": [
    {
     "name": "stdout",
     "output_type": "stream",
     "text": [
      "TRAIN, F1-Score: 0.42479097677442734, Accuracy: 0.6700419445343895\n",
      "DEV, F1-Score: 0.39509147010784373, Accuracy: 0.6602798106649433\n",
      "TEST, F1-Score: 0.4022318090656121, Accuracy: 0.6603500196395059\n"
     ]
    }
   ],
   "source": [
    "mlp_results = {\n",
    "    \"train\": evaluation_method(y_train, y_train_pred),\n",
    "    \"dev\": evaluation_method(y_dev, y_dev_pred),\n",
    "    \"test\": evaluation_method(y_test, y_test_pred)\n",
    "}\n",
    "\n",
    "print(f\"TRAIN, F1-Score: {mlp_results['train']['f1']}, Accuracy: {mlp_results['train']['accuracy']}\")\n",
    "print(f\"DEV, F1-Score: {mlp_results['dev']['f1']}, Accuracy: {mlp_results['dev']['accuracy']}\")\n",
    "print(f\"TEST, F1-Score: {mlp_results['test']['f1']}, Accuracy: {mlp_results['test']['accuracy']}\")\n",
    "\n",
    "save_json(os.path.join(\"assets/predictions\", \"lsa-mlp-baseline.json\"), mlp_results)"
   ]
  },
  {
   "cell_type": "code",
   "execution_count": null,
   "id": "09dd5e5f-8948-4760-9751-72b8e43f0020",
   "metadata": {},
   "outputs": [],
   "source": []
  }
 ],
 "metadata": {
  "kernelspec": {
   "display_name": "Python 3",
   "language": "python",
   "name": "python3"
  },
  "language_info": {
   "codemirror_mode": {
    "name": "ipython",
    "version": 3
   },
   "file_extension": ".py",
   "mimetype": "text/x-python",
   "name": "python",
   "nbconvert_exporter": "python",
   "pygments_lexer": "ipython3",
   "version": "3.6.9"
  }
 },
 "nbformat": 4,
 "nbformat_minor": 5
}
