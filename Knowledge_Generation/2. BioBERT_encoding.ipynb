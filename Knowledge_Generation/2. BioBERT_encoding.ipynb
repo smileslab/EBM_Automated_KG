{
 "cells": [
  {
   "cell_type": "markdown",
   "metadata": {
    "id": "q-ouPM4ELAnE"
   },
   "source": [
    "### Mount Google Drive"
   ]
  },
  {
   "cell_type": "code",
   "execution_count": null,
   "metadata": {
    "colab": {
     "base_uri": "https://localhost:8080/"
    },
    "id": "5UEkxiKtPwF0",
    "outputId": "76cb2657-d16f-4e59-d60b-51927f587c1f"
   },
   "outputs": [
    {
     "name": "stdout",
     "output_type": "stream",
     "text": [
      "Mounted at /content/drive\n"
     ]
    }
   ],
   "source": [
    "from google.colab import drive\n",
    "drive.mount('/content/drive')"
   ]
  },
  {
   "cell_type": "markdown",
   "metadata": {
    "id": "9o-qvHmGLF7l"
   },
   "source": [
    "### Check the Drive Details"
   ]
  },
  {
   "cell_type": "code",
   "execution_count": null,
   "metadata": {
    "colab": {
     "base_uri": "https://localhost:8080/"
    },
    "id": "vDUCxTSlP3yl",
    "outputId": "7c52cf76-70c4-4248-9240-6309eae1e493"
   },
   "outputs": [
    {
     "name": "stdout",
     "output_type": "stream",
     "text": [
      "bert_config.json\t\t\tmodel.ckpt-1000000.meta\n",
      "model.ckpt-1000000.data-00000-of-00001\tpytorch_model.bin\n",
      "model.ckpt-1000000.index\t\tvocab.txt\n"
     ]
    }
   ],
   "source": [
    "!ls \"/content/drive/My Drive/COVID-19/Code_Base/Biobert_pretrained\""
   ]
  },
  {
   "cell_type": "markdown",
   "metadata": {
    "id": "w7lP84khLZWo"
   },
   "source": [
    "#### Install Libraries"
   ]
  },
  {
   "cell_type": "code",
   "execution_count": null,
   "metadata": {
    "id": "Kf4D28igXapb"
   },
   "outputs": [],
   "source": [
    "!pip install biobert-embedding\n",
    "!pip install pytorch_pretrained_bert"
   ]
  },
  {
   "cell_type": "markdown",
   "metadata": {
    "id": "Me9Bt70mMUY_"
   },
   "source": [
    "### Import Libraries"
   ]
  },
  {
   "cell_type": "code",
   "execution_count": null,
   "metadata": {
    "id": "ouv_ssI-NHuH"
   },
   "outputs": [],
   "source": [
    "import glob\n",
    "import pandas as pd\n",
    "import nltk\n",
    "from sklearn.linear_model import LogisticRegression\n",
    "from sklearn.ensemble import AdaBoostClassifier\n",
    "from sklearn.tree import DecisionTreeClassifier\n",
    "from sklearn.ensemble import GradientBoostingClassifier\n",
    "from sklearn.ensemble import RandomForestClassifier\n",
    "from sklearn.naive_bayes import MultinomialNB\n",
    "from sklearn.neural_network import MLPClassifier\n",
    "from sklearn.neighbors import KNeighborsClassifier \n",
    "from biobert_embedding.embedding import BiobertEmbedding"
   ]
  },
  {
   "cell_type": "markdown",
   "metadata": {
    "id": "veQHqkUYMyvF"
   },
   "source": [
    "#### Read data set"
   ]
  },
  {
   "cell_type": "code",
   "execution_count": null,
   "metadata": {
    "id": "PEiQsrNIMxmN"
   },
   "outputs": [],
   "source": [
    "df_BA_APIRO=pd.read_csv('/content/drive/My Drive/COVID-19/Code_Base/Data/Bert_Data/APIRO_Dataset.csv').drop(columns='Unnamed: 0',axis=1)\n",
    "df_covid19_PICO=pd.read_csv('/content/drive/My Drive/COVID-19/Code_Base/Data/Bert_Data/df_covid19_PICO.csv')"
   ]
  },
  {
   "cell_type": "markdown",
   "metadata": {},
   "source": [
    "#### BioBERT Model Initialization"
   ]
  },
  {
   "cell_type": "code",
   "execution_count": null,
   "metadata": {},
   "outputs": [],
   "source": [
    "bert_model_path='/content/drive/My Drive/COVID-19/Code_Base/Biobert_pretrained'\n",
    "biobert = BiobertEmbedding(model_path=bert_model_path)"
   ]
  },
  {
   "cell_type": "markdown",
   "metadata": {
    "id": "neIuXg9TObmK"
   },
   "source": [
    "#### Biobert Encoding CB | Covid Data set\n"
   ]
  },
  {
   "cell_type": "code",
   "execution_count": null,
   "metadata": {
    "id": "5vZMDF0nYvhl"
   },
   "outputs": [],
   "source": [
    "\n",
    "# CB Dataset\n",
    "df_BA_APIRO['sent_length']=df_BA_APIRO['sent'].apply(lambda x: len(biobert.process_text(x))) \n",
    "df_BA_APIRO=df_BA_APIRO[df_BA_APIRO['sent_length']<=512]\n",
    "# Covid 19 dataset\n",
    "df_covid19_PICO['sent_length']=df_covid19_PICO['sent'].apply(lambda x: len(biobert.process_text(x))) \n",
    "df_covid19_PICO=df_covid19_PICO[df_covid19_PICO['sent_length']<=512]"
   ]
  },
  {
   "cell_type": "code",
   "execution_count": null,
   "metadata": {
    "id": "AzxdYopMNac6"
   },
   "outputs": [],
   "source": [
    "def custom_sent_vector(cols):\n",
    "    '''\n",
    "    @Author - Fakhare Alam\n",
    "    '''\n",
    "    x=cols['sent']\n",
    "    sent_vector=biobert.sentence_vector(x)\n",
    "    return sent_vector"
   ]
  },
  {
   "cell_type": "code",
   "execution_count": null,
   "metadata": {},
   "outputs": [],
   "source": [
    "chunk_size = int(df_covid19_PICO.shape[0] / 100)\n",
    "for start in range(0, df_BA_APIRO.shape[0], chunk_size):\n",
    "    print('start set -' ,start)\n",
    "    df_subset = df_BA_APIRO.iloc[start:start + chunk_size]\n",
    "    df_subset['sent_embedding']=df_subset[['sent']].apply(custom_sent_vector,axis=1)\n",
    "    df_subset.to_csv('/content/drive/My Drive/COVID-19/Code_Base/Data/Bert_Data/APIRO_Dataset_biobert_encoded_'+str(start)+'.csv',index=False)"
   ]
  },
  {
   "cell_type": "code",
   "execution_count": null,
   "metadata": {},
   "outputs": [],
   "source": [
    "chunk_size_CB = int(df_covid19_PICO.shape[0] / 10)\n",
    "for start in range(0, df_covid19_PICO.shape[0], chunk_size_CB):\n",
    "    print('start set -' ,start)\n",
    "    df_subset = df_covid19_PICO.iloc[start:start + chunk_size_CB]\n",
    "    df_subset['sent_embedding']=df_subset[['sent']].apply(custom_sent_vector,axis=1)\n",
    "    df_subset.to_csv('/content/drive/My Drive/COVID-19/Code_Base/Data/Bert_Data/df_covid19_PICO_biobert_encoded_'+str(start)+'.csv',index=False)"
   ]
  },
  {
   "cell_type": "markdown",
   "metadata": {
    "id": "3zSEFQwRnVWK"
   },
   "source": [
    "#### Combine all Covid Files Together  CB | Covid"
   ]
  },
  {
   "cell_type": "code",
   "execution_count": 36,
   "metadata": {
    "id": "ua4iCbrHn9Lw"
   },
   "outputs": [],
   "source": [
    "covid_path=r'/content/drive/My Drive/COVID-19/Code_Base/Data/Bert_Data/covid19'\n",
    "all_files = glob.glob(covid_path + \"/*.csv\")\n",
    "li = []\n",
    "for filename in all_files:\n",
    "    df = pd.read_csv(filename, index_col=None, header=0)\n",
    "    li.append(df)\n",
    "\n",
    "df_covid19_PICO_biobert_encoded_combined = pd.concat(li, axis=0, ignore_index=True)\n",
    "df_covid19_PICO_biobert_encoded_combined.to_csv(covid_path+'/df_covid19_PICO_biobert_encoded_combined.csv',index=False)"
   ]
  },
  {
   "cell_type": "code",
   "execution_count": null,
   "metadata": {
    "colab": {
     "base_uri": "https://localhost:8080/",
     "height": 206
    },
    "id": "3BXkqTorptXS",
    "outputId": "f0053f6b-e15b-457d-84bc-f8a5a28092e0"
   },
   "outputs": [
    {
     "data": {
      "text/html": [
       "\n",
       "  <div id=\"df-90d40272-63e2-403c-8738-33ca7aff96a2\">\n",
       "    <div class=\"colab-df-container\">\n",
       "      <div>\n",
       "<style scoped>\n",
       "    .dataframe tbody tr th:only-of-type {\n",
       "        vertical-align: middle;\n",
       "    }\n",
       "\n",
       "    .dataframe tbody tr th {\n",
       "        vertical-align: top;\n",
       "    }\n",
       "\n",
       "    .dataframe thead th {\n",
       "        text-align: right;\n",
       "    }\n",
       "</style>\n",
       "<table border=\"1\" class=\"dataframe\">\n",
       "  <thead>\n",
       "    <tr style=\"text-align: right;\">\n",
       "      <th></th>\n",
       "      <th>sent</th>\n",
       "      <th>aimoprc_category</th>\n",
       "      <th>sent_length</th>\n",
       "      <th>sent_embedding</th>\n",
       "    </tr>\n",
       "  </thead>\n",
       "  <tbody>\n",
       "    <tr>\n",
       "      <th>0</th>\n",
       "      <td>this retrospective chart review describes the...</td>\n",
       "      <td>A</td>\n",
       "      <td>51</td>\n",
       "      <td>tensor([ 2.4645e-01, -2.5895e-01, -1.3125e-01,...</td>\n",
       "    </tr>\n",
       "    <tr>\n",
       "      <th>1</th>\n",
       "      <td>rhinovirus, the most common cause of upper re...</td>\n",
       "      <td>A</td>\n",
       "      <td>104</td>\n",
       "      <td>tensor([ 2.7615e-01, -2.4615e-01,  5.5013e-02,...</td>\n",
       "    </tr>\n",
       "    <tr>\n",
       "      <th>2</th>\n",
       "      <td>the human leukocyte antigen (hla) system is w...</td>\n",
       "      <td>A</td>\n",
       "      <td>117</td>\n",
       "      <td>tensor([ 1.9259e-01, -1.8838e-01, -9.6603e-02,...</td>\n",
       "    </tr>\n",
       "    <tr>\n",
       "      <th>3</th>\n",
       "      <td>an epidemic of a severe acute respiratory syn...</td>\n",
       "      <td>A</td>\n",
       "      <td>79</td>\n",
       "      <td>tensor([ 1.9417e-01, -2.4222e-01, -1.2005e-01,...</td>\n",
       "    </tr>\n",
       "    <tr>\n",
       "      <th>4</th>\n",
       "      <td>severe acute respiratory syndrome (sars) is a...</td>\n",
       "      <td>A</td>\n",
       "      <td>137</td>\n",
       "      <td>tensor([ 3.9694e-01,  8.0560e-02, -1.3360e-01,...</td>\n",
       "    </tr>\n",
       "  </tbody>\n",
       "</table>\n",
       "</div>\n",
       "      <button class=\"colab-df-convert\" onclick=\"convertToInteractive('df-90d40272-63e2-403c-8738-33ca7aff96a2')\"\n",
       "              title=\"Convert this dataframe to an interactive table.\"\n",
       "              style=\"display:none;\">\n",
       "        \n",
       "  <svg xmlns=\"http://www.w3.org/2000/svg\" height=\"24px\"viewBox=\"0 0 24 24\"\n",
       "       width=\"24px\">\n",
       "    <path d=\"M0 0h24v24H0V0z\" fill=\"none\"/>\n",
       "    <path d=\"M18.56 5.44l.94 2.06.94-2.06 2.06-.94-2.06-.94-.94-2.06-.94 2.06-2.06.94zm-11 1L8.5 8.5l.94-2.06 2.06-.94-2.06-.94L8.5 2.5l-.94 2.06-2.06.94zm10 10l.94 2.06.94-2.06 2.06-.94-2.06-.94-.94-2.06-.94 2.06-2.06.94z\"/><path d=\"M17.41 7.96l-1.37-1.37c-.4-.4-.92-.59-1.43-.59-.52 0-1.04.2-1.43.59L10.3 9.45l-7.72 7.72c-.78.78-.78 2.05 0 2.83L4 21.41c.39.39.9.59 1.41.59.51 0 1.02-.2 1.41-.59l7.78-7.78 2.81-2.81c.8-.78.8-2.07 0-2.86zM5.41 20L4 18.59l7.72-7.72 1.47 1.35L5.41 20z\"/>\n",
       "  </svg>\n",
       "      </button>\n",
       "      \n",
       "  <style>\n",
       "    .colab-df-container {\n",
       "      display:flex;\n",
       "      flex-wrap:wrap;\n",
       "      gap: 12px;\n",
       "    }\n",
       "\n",
       "    .colab-df-convert {\n",
       "      background-color: #E8F0FE;\n",
       "      border: none;\n",
       "      border-radius: 50%;\n",
       "      cursor: pointer;\n",
       "      display: none;\n",
       "      fill: #1967D2;\n",
       "      height: 32px;\n",
       "      padding: 0 0 0 0;\n",
       "      width: 32px;\n",
       "    }\n",
       "\n",
       "    .colab-df-convert:hover {\n",
       "      background-color: #E2EBFA;\n",
       "      box-shadow: 0px 1px 2px rgba(60, 64, 67, 0.3), 0px 1px 3px 1px rgba(60, 64, 67, 0.15);\n",
       "      fill: #174EA6;\n",
       "    }\n",
       "\n",
       "    [theme=dark] .colab-df-convert {\n",
       "      background-color: #3B4455;\n",
       "      fill: #D2E3FC;\n",
       "    }\n",
       "\n",
       "    [theme=dark] .colab-df-convert:hover {\n",
       "      background-color: #434B5C;\n",
       "      box-shadow: 0px 1px 3px 1px rgba(0, 0, 0, 0.15);\n",
       "      filter: drop-shadow(0px 1px 2px rgba(0, 0, 0, 0.3));\n",
       "      fill: #FFFFFF;\n",
       "    }\n",
       "  </style>\n",
       "\n",
       "      <script>\n",
       "        const buttonEl =\n",
       "          document.querySelector('#df-90d40272-63e2-403c-8738-33ca7aff96a2 button.colab-df-convert');\n",
       "        buttonEl.style.display =\n",
       "          google.colab.kernel.accessAllowed ? 'block' : 'none';\n",
       "\n",
       "        async function convertToInteractive(key) {\n",
       "          const element = document.querySelector('#df-90d40272-63e2-403c-8738-33ca7aff96a2');\n",
       "          const dataTable =\n",
       "            await google.colab.kernel.invokeFunction('convertToInteractive',\n",
       "                                                     [key], {});\n",
       "          if (!dataTable) return;\n",
       "\n",
       "          const docLinkHtml = 'Like what you see? Visit the ' +\n",
       "            '<a target=\"_blank\" href=https://colab.research.google.com/notebooks/data_table.ipynb>data table notebook</a>'\n",
       "            + ' to learn more about interactive tables.';\n",
       "          element.innerHTML = '';\n",
       "          dataTable['output_type'] = 'display_data';\n",
       "          await google.colab.output.renderOutput(dataTable, element);\n",
       "          const docLink = document.createElement('div');\n",
       "          docLink.innerHTML = docLinkHtml;\n",
       "          element.appendChild(docLink);\n",
       "        }\n",
       "      </script>\n",
       "    </div>\n",
       "  </div>\n",
       "  "
      ],
      "text/plain": [
       "                                                sent aimoprc_category  \\\n",
       "0   this retrospective chart review describes the...                A   \n",
       "1   rhinovirus, the most common cause of upper re...                A   \n",
       "2   the human leukocyte antigen (hla) system is w...                A   \n",
       "3   an epidemic of a severe acute respiratory syn...                A   \n",
       "4   severe acute respiratory syndrome (sars) is a...                A   \n",
       "\n",
       "   sent_length                                     sent_embedding  \n",
       "0           51  tensor([ 2.4645e-01, -2.5895e-01, -1.3125e-01,...  \n",
       "1          104  tensor([ 2.7615e-01, -2.4615e-01,  5.5013e-02,...  \n",
       "2          117  tensor([ 1.9259e-01, -1.8838e-01, -9.6603e-02,...  \n",
       "3           79  tensor([ 1.9417e-01, -2.4222e-01, -1.2005e-01,...  \n",
       "4          137  tensor([ 3.9694e-01,  8.0560e-02, -1.3360e-01,...  "
      ]
     },
     "execution_count": 16,
     "metadata": {},
     "output_type": "execute_result"
    }
   ],
   "source": [
    "df_covid19_PICO_biobert_encoded_combined.head()"
   ]
  },
  {
   "cell_type": "code",
   "execution_count": null,
   "metadata": {
    "id": "QsGNFQi0nc5x"
   },
   "outputs": [],
   "source": [
    "CB_path=r'/content/drive/My Drive/COVID-19/Code_Base/Data/Bert_Data/CB'\n",
    "all_files = glob.glob(CB_path + \"/*.csv\")\n",
    "li = []\n",
    "for filename in all_files:\n",
    "    df = pd.read_csv(filename, index_col=None, header=0)\n",
    "    li.append(df)\n",
    "\n",
    "df_APIRO_Dataset_biobert_encoded_combined = pd.concat(li, axis=0, ignore_index=True)\n",
    "df_APIRO_Dataset_biobert_encoded_combined.to_csv(CB_path+'/df_APIRO_Dataset_biobert_encoded_combined.csv',index=False)"
   ]
  },
  {
   "cell_type": "code",
   "execution_count": null,
   "metadata": {
    "colab": {
     "base_uri": "https://localhost:8080/",
     "height": 206
    },
    "id": "A4OcJQugqDBn",
    "outputId": "561a7d56-6326-462a-c835-51fdc66b629c"
   },
   "outputs": [
    {
     "data": {
      "text/html": [
       "\n",
       "  <div id=\"df-cf41576c-424f-4675-a134-123116e39b25\">\n",
       "    <div class=\"colab-df-container\">\n",
       "      <div>\n",
       "<style scoped>\n",
       "    .dataframe tbody tr th:only-of-type {\n",
       "        vertical-align: middle;\n",
       "    }\n",
       "\n",
       "    .dataframe tbody tr th {\n",
       "        vertical-align: top;\n",
       "    }\n",
       "\n",
       "    .dataframe thead th {\n",
       "        text-align: right;\n",
       "    }\n",
       "</style>\n",
       "<table border=\"1\" class=\"dataframe\">\n",
       "  <thead>\n",
       "    <tr style=\"text-align: right;\">\n",
       "      <th></th>\n",
       "      <th>sent</th>\n",
       "      <th>aimoprc_category</th>\n",
       "      <th>data_category</th>\n",
       "      <th>sent_length</th>\n",
       "      <th>sent_embedding</th>\n",
       "    </tr>\n",
       "  </thead>\n",
       "  <tbody>\n",
       "    <tr>\n",
       "      <th>0</th>\n",
       "      <td>innominate artery aneurysms (iaas) are relati...</td>\n",
       "      <td>A</td>\n",
       "      <td>medline</td>\n",
       "      <td>207.0</td>\n",
       "      <td>tensor([ 8.6653e-02, -9.0528e-02, -7.9277e-02,...</td>\n",
       "    </tr>\n",
       "    <tr>\n",
       "      <th>1</th>\n",
       "      <td>when treating intracranial aneurysms with ope...</td>\n",
       "      <td>A</td>\n",
       "      <td>medline</td>\n",
       "      <td>174.0</td>\n",
       "      <td>tensor([ 1.5612e-01, -1.7345e-01,  6.4176e-02,...</td>\n",
       "    </tr>\n",
       "    <tr>\n",
       "      <th>2</th>\n",
       "      <td>to report a novel internal and external blood...</td>\n",
       "      <td>A</td>\n",
       "      <td>medline</td>\n",
       "      <td>359.0</td>\n",
       "      <td>tensor([ 2.0954e-01, -1.8186e-01, -7.3135e-03,...</td>\n",
       "    </tr>\n",
       "    <tr>\n",
       "      <th>3</th>\n",
       "      <td>image-based hemodynamic simulations have grea...</td>\n",
       "      <td>A</td>\n",
       "      <td>medline</td>\n",
       "      <td>50.0</td>\n",
       "      <td>tensor([-6.5059e-03, -1.1184e-01,  2.1153e-01,...</td>\n",
       "    </tr>\n",
       "    <tr>\n",
       "      <th>4</th>\n",
       "      <td>intracranial aneurysm rupture is the most dev...</td>\n",
       "      <td>A</td>\n",
       "      <td>medline</td>\n",
       "      <td>105.0</td>\n",
       "      <td>tensor([ 2.7629e-01,  8.5086e-03,  3.5425e-02,...</td>\n",
       "    </tr>\n",
       "  </tbody>\n",
       "</table>\n",
       "</div>\n",
       "      <button class=\"colab-df-convert\" onclick=\"convertToInteractive('df-cf41576c-424f-4675-a134-123116e39b25')\"\n",
       "              title=\"Convert this dataframe to an interactive table.\"\n",
       "              style=\"display:none;\">\n",
       "        \n",
       "  <svg xmlns=\"http://www.w3.org/2000/svg\" height=\"24px\"viewBox=\"0 0 24 24\"\n",
       "       width=\"24px\">\n",
       "    <path d=\"M0 0h24v24H0V0z\" fill=\"none\"/>\n",
       "    <path d=\"M18.56 5.44l.94 2.06.94-2.06 2.06-.94-2.06-.94-.94-2.06-.94 2.06-2.06.94zm-11 1L8.5 8.5l.94-2.06 2.06-.94-2.06-.94L8.5 2.5l-.94 2.06-2.06.94zm10 10l.94 2.06.94-2.06 2.06-.94-2.06-.94-.94-2.06-.94 2.06-2.06.94z\"/><path d=\"M17.41 7.96l-1.37-1.37c-.4-.4-.92-.59-1.43-.59-.52 0-1.04.2-1.43.59L10.3 9.45l-7.72 7.72c-.78.78-.78 2.05 0 2.83L4 21.41c.39.39.9.59 1.41.59.51 0 1.02-.2 1.41-.59l7.78-7.78 2.81-2.81c.8-.78.8-2.07 0-2.86zM5.41 20L4 18.59l7.72-7.72 1.47 1.35L5.41 20z\"/>\n",
       "  </svg>\n",
       "      </button>\n",
       "      \n",
       "  <style>\n",
       "    .colab-df-container {\n",
       "      display:flex;\n",
       "      flex-wrap:wrap;\n",
       "      gap: 12px;\n",
       "    }\n",
       "\n",
       "    .colab-df-convert {\n",
       "      background-color: #E8F0FE;\n",
       "      border: none;\n",
       "      border-radius: 50%;\n",
       "      cursor: pointer;\n",
       "      display: none;\n",
       "      fill: #1967D2;\n",
       "      height: 32px;\n",
       "      padding: 0 0 0 0;\n",
       "      width: 32px;\n",
       "    }\n",
       "\n",
       "    .colab-df-convert:hover {\n",
       "      background-color: #E2EBFA;\n",
       "      box-shadow: 0px 1px 2px rgba(60, 64, 67, 0.3), 0px 1px 3px 1px rgba(60, 64, 67, 0.15);\n",
       "      fill: #174EA6;\n",
       "    }\n",
       "\n",
       "    [theme=dark] .colab-df-convert {\n",
       "      background-color: #3B4455;\n",
       "      fill: #D2E3FC;\n",
       "    }\n",
       "\n",
       "    [theme=dark] .colab-df-convert:hover {\n",
       "      background-color: #434B5C;\n",
       "      box-shadow: 0px 1px 3px 1px rgba(0, 0, 0, 0.15);\n",
       "      filter: drop-shadow(0px 1px 2px rgba(0, 0, 0, 0.3));\n",
       "      fill: #FFFFFF;\n",
       "    }\n",
       "  </style>\n",
       "\n",
       "      <script>\n",
       "        const buttonEl =\n",
       "          document.querySelector('#df-cf41576c-424f-4675-a134-123116e39b25 button.colab-df-convert');\n",
       "        buttonEl.style.display =\n",
       "          google.colab.kernel.accessAllowed ? 'block' : 'none';\n",
       "\n",
       "        async function convertToInteractive(key) {\n",
       "          const element = document.querySelector('#df-cf41576c-424f-4675-a134-123116e39b25');\n",
       "          const dataTable =\n",
       "            await google.colab.kernel.invokeFunction('convertToInteractive',\n",
       "                                                     [key], {});\n",
       "          if (!dataTable) return;\n",
       "\n",
       "          const docLinkHtml = 'Like what you see? Visit the ' +\n",
       "            '<a target=\"_blank\" href=https://colab.research.google.com/notebooks/data_table.ipynb>data table notebook</a>'\n",
       "            + ' to learn more about interactive tables.';\n",
       "          element.innerHTML = '';\n",
       "          dataTable['output_type'] = 'display_data';\n",
       "          await google.colab.output.renderOutput(dataTable, element);\n",
       "          const docLink = document.createElement('div');\n",
       "          docLink.innerHTML = docLinkHtml;\n",
       "          element.appendChild(docLink);\n",
       "        }\n",
       "      </script>\n",
       "    </div>\n",
       "  </div>\n",
       "  "
      ],
      "text/plain": [
       "                                                sent aimoprc_category  \\\n",
       "0   innominate artery aneurysms (iaas) are relati...                A   \n",
       "1   when treating intracranial aneurysms with ope...                A   \n",
       "2   to report a novel internal and external blood...                A   \n",
       "3   image-based hemodynamic simulations have grea...                A   \n",
       "4   intracranial aneurysm rupture is the most dev...                A   \n",
       "\n",
       "  data_category  sent_length  \\\n",
       "0       medline        207.0   \n",
       "1       medline        174.0   \n",
       "2       medline        359.0   \n",
       "3       medline         50.0   \n",
       "4       medline        105.0   \n",
       "\n",
       "                                      sent_embedding  \n",
       "0  tensor([ 8.6653e-02, -9.0528e-02, -7.9277e-02,...  \n",
       "1  tensor([ 1.5612e-01, -1.7345e-01,  6.4176e-02,...  \n",
       "2  tensor([ 2.0954e-01, -1.8186e-01, -7.3135e-03,...  \n",
       "3  tensor([-6.5059e-03, -1.1184e-01,  2.1153e-01,...  \n",
       "4  tensor([ 2.7629e-01,  8.5086e-03,  3.5425e-02,...  "
      ]
     },
     "execution_count": 17,
     "metadata": {},
     "output_type": "execute_result"
    }
   ],
   "source": [
    "df_APIRO_Dataset_biobert_encoded_combined.head()"
   ]
  },
  {
   "cell_type": "code",
   "execution_count": null,
   "metadata": {
    "colab": {
     "base_uri": "https://localhost:8080/"
    },
    "id": "OYQSNQdSomna",
    "outputId": "e06de6a4-8160-478f-c22d-26067e4703aa"
   },
   "outputs": [
    {
     "name": "stdout",
     "output_type": "stream",
     "text": [
      "<class 'pandas.core.frame.DataFrame'>\n",
      "RangeIndex: 173284 entries, 0 to 173283\n",
      "Data columns (total 5 columns):\n",
      " #   Column            Non-Null Count   Dtype  \n",
      "---  ------            --------------   -----  \n",
      " 0   sent              173283 non-null  object \n",
      " 1   aimoprc_category  173283 non-null  object \n",
      " 2   data_category     173283 non-null  object \n",
      " 3   sent_length       173283 non-null  float64\n",
      " 4   sent_embedding    173283 non-null  object \n",
      "dtypes: float64(1), object(4)\n",
      "memory usage: 6.6+ MB\n"
     ]
    }
   ],
   "source": [
    "df_APIRO_Dataset_biobert_encoded_combined.info()"
   ]
  }
 ],
 "metadata": {
  "colab": {
   "collapsed_sections": [],
   "provenance": [],
   "toc_visible": true
  },
  "kernelspec": {
   "display_name": "Python - Spark 2.3.2",
   "language": "python",
   "name": "python3"
  },
  "language_info": {
   "codemirror_mode": {
    "name": "ipython",
    "version": 3
   },
   "file_extension": ".py",
   "mimetype": "text/x-python",
   "name": "python",
   "nbconvert_exporter": "python",
   "pygments_lexer": "ipython3",
   "version": "3.7.9"
  }
 },
 "nbformat": 4,
 "nbformat_minor": 4
}
